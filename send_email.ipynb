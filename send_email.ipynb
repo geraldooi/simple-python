{
 "cells": [
  {
   "cell_type": "code",
   "execution_count": null,
   "metadata": {},
   "outputs": [],
   "source": [
    "import numpy as np\n",
    "import pandas as pd"
   ]
  },
  {
   "cell_type": "code",
   "execution_count": null,
   "metadata": {},
   "outputs": [],
   "source": [
    "# Read CSV\n",
    "df = pd.read_csv('sample_output.csv')"
   ]
  },
  {
   "cell_type": "code",
   "execution_count": null,
   "metadata": {},
   "outputs": [],
   "source": [
    "print('Min:', df['passenger_count'].min())\n",
    "print('Max: %f' % df['passenger_count'].max())\n",
    "print(f\"Average: {df['passenger_count'].mean()}\") # prefer this\n",
    "print('Std Dev: {}'.format(df['passenger_count'].std()))"
   ]
  },
  {
   "cell_type": "code",
   "execution_count": null,
   "metadata": {},
   "outputs": [],
   "source": [
    "# Print columns\n",
    "print('|'.join(df.columns.to_list()))"
   ]
  },
  {
   "cell_type": "code",
   "execution_count": null,
   "metadata": {},
   "outputs": [],
   "source": [
    "# Print first 5 rows\n",
    "df['passenger_count'] = df['passenger_count'].astype('str')\n",
    "df['total_amount'] = df['total_amount'].astype('str')\n",
    "df['trip_distance'] = df['trip_distance'].astype('str')\n",
    "\n",
    "for index, row in df.head(5).iterrows():\n",
    "    print('|'.join(row.to_list()))"
   ]
  },
  {
   "cell_type": "markdown",
   "metadata": {},
   "source": [
    "## Send Email"
   ]
  },
  {
   "cell_type": "code",
   "execution_count": null,
   "metadata": {},
   "outputs": [],
   "source": [
    "import smtplib\n",
    "from decouple import config\n",
    "from email.message import EmailMessage\n",
    "from textwrap import dedent"
   ]
  },
  {
   "cell_type": "code",
   "execution_count": null,
   "metadata": {},
   "outputs": [],
   "source": [
    "email_from = config('EMAIL_FROM')\n",
    "email_password = config('EMAIL_PASSWORD')\n",
    "email_server = config('EMAIL_SERVER')\n",
    "email_out_port = config('EMAIL_OUT_PORT')"
   ]
  },
  {
   "cell_type": "code",
   "execution_count": null,
   "metadata": {},
   "outputs": [],
   "source": [
    "# Email content\n",
    "receipients = ['gerald@postpay.asia', 'geraldooi.zx@gmail.com']\n",
    "subject = 'Hello from Me'\n",
    "message = f'''\n",
    "    Dear All,\n",
    "\n",
    "    This is email from Python. Cool isn't it.\n",
    "\n",
    "    -----\n",
    "    {'|'.join(df.columns.to_list())}\n",
    "    <---- data here ---->\n",
    "    <---- data here ---->\n",
    "    <---- data here ---->\n",
    "    <---- data here ---->\n",
    "    <---- data here ---->\n",
    "    -----\n",
    "\n",
    "    my repo: <github repo link>\n",
    "'''\n"
   ]
  },
  {
   "cell_type": "code",
   "execution_count": null,
   "metadata": {},
   "outputs": [],
   "source": [
    "# Create EmailMessage object\n",
    "msg = EmailMessage()\n",
    "msg['Subject'] = subject\n",
    "msg['From'] = email_from\n",
    "msg['To'] = ', '.join(receipients)\n",
    "msg.set_content(dedent(message))"
   ]
  },
  {
   "cell_type": "code",
   "execution_count": null,
   "metadata": {},
   "outputs": [],
   "source": [
    "# attach files\n",
    "files = ['sample_output.csv']\n",
    "for file in files:\n",
    "    with open(file, 'rb') as f:\n",
    "        file_data = f.read()\n",
    "        file_name = f.name\n",
    "    msg.add_attachment(file_data, maintype='application', subtype='octet-stream', filename=file_name)"
   ]
  },
  {
   "cell_type": "code",
   "execution_count": null,
   "metadata": {},
   "outputs": [],
   "source": [
    "# Send email\n",
    "try:\n",
    "    s = smtplib.SMTP_SSL(email_server, email_out_port)\n",
    "    s.login(email_from, email_password)\n",
    "    s.send_message(msg) # send the EmailMessage you have created\n",
    "except Exception as e:\n",
    "    print(f'Exception: {e}')\n",
    "finally:\n",
    "    print(f'Email sent to {receipients}')\n",
    "    s.quit() # close the smtp connection"
   ]
  },
  {
   "cell_type": "code",
   "execution_count": null,
   "metadata": {},
   "outputs": [],
   "source": []
  }
 ],
 "metadata": {
  "kernelspec": {
   "display_name": "Python 3.9.13 ('venv': venv)",
   "language": "python",
   "name": "python3"
  },
  "language_info": {
   "codemirror_mode": {
    "name": "ipython",
    "version": 3
   },
   "file_extension": ".py",
   "mimetype": "text/x-python",
   "name": "python",
   "nbconvert_exporter": "python",
   "pygments_lexer": "ipython3",
   "version": "3.9.13"
  },
  "orig_nbformat": 4,
  "vscode": {
   "interpreter": {
    "hash": "6f0287ec65954f2adecf2c461c90aefeadd2a9438fac8b26238b47704e2e7a99"
   }
  }
 },
 "nbformat": 4,
 "nbformat_minor": 2
}
