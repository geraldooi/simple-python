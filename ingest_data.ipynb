{
 "cells": [
  {
   "cell_type": "code",
   "execution_count": null,
   "id": "fd367b01",
   "metadata": {},
   "outputs": [],
   "source": [
    "import numpy as np\n",
    "import os\n",
    "import pandas as pd"
   ]
  },
  {
   "cell_type": "markdown",
   "id": "92029a4e",
   "metadata": {},
   "source": [
    "## Read CSV"
   ]
  },
  {
   "cell_type": "code",
   "execution_count": null,
   "id": "8b53331e",
   "metadata": {},
   "outputs": [],
   "source": [
    "os.listdir('data/')"
   ]
  },
  {
   "cell_type": "code",
   "execution_count": null,
   "id": "5875de72",
   "metadata": {},
   "outputs": [],
   "source": [
    "# Read from csv file\n",
    "df = pd.read_csv('data/trip_100.csv', index_col=0)"
   ]
  },
  {
   "cell_type": "markdown",
   "id": "4817fad5",
   "metadata": {},
   "source": [
    "## Load CSV to DB"
   ]
  },
  {
   "cell_type": "code",
   "execution_count": null,
   "id": "0736a106",
   "metadata": {},
   "outputs": [],
   "source": [
    "from sqlalchemy import create_engine"
   ]
  },
  {
   "cell_type": "code",
   "execution_count": null,
   "id": "4932314f",
   "metadata": {},
   "outputs": [],
   "source": [
    "username ='root'\n",
    "password = 'root'\n",
    "host = 'localhost'\n",
    "port = '3306'\n",
    "dbname = 'taxi'"
   ]
  },
  {
   "cell_type": "code",
   "execution_count": null,
   "id": "25ad2878",
   "metadata": {},
   "outputs": [],
   "source": [
    "# Initialize mysql engine\n",
    "engine = create_engine(f'mysql+pymysql://{username}:{password}@{host}:{port}/{dbname}')"
   ]
  },
  {
   "cell_type": "code",
   "execution_count": null,
   "id": "20031161",
   "metadata": {},
   "outputs": [],
   "source": [
    "# Create Table in taxi\n",
    "df.head(0).to_sql(name='trip', con=engine, if_exists='replace')"
   ]
  },
  {
   "cell_type": "code",
   "execution_count": null,
   "id": "ef63bf6a",
   "metadata": {},
   "outputs": [],
   "source": [
    "# Load data into trip table\n",
    "df.to_sql(name='trip', con=engine, if_exists='append', chunksize=100000)"
   ]
  },
  {
   "cell_type": "markdown",
   "id": "4d4da122",
   "metadata": {},
   "source": [
    "## Persist Table to CSV"
   ]
  },
  {
   "cell_type": "code",
   "execution_count": null,
   "id": "cd7ac58b",
   "metadata": {},
   "outputs": [],
   "source": [
    "# read from sql\n",
    "query = '''\n",
    "    SELECT tpep_pickup_datetime, tpep_dropoff_datetime, passenger_count, total_amount, trip_distance\n",
    "    FROM trip\n",
    "    LIMIT 30;\n",
    "'''\n",
    "output_df = pd.read_sql(query, con=engine)"
   ]
  },
  {
   "cell_type": "code",
   "execution_count": null,
   "id": "29a24bfd",
   "metadata": {},
   "outputs": [],
   "source": [
    "output_df"
   ]
  },
  {
   "cell_type": "code",
   "execution_count": null,
   "id": "5444a9c7",
   "metadata": {},
   "outputs": [],
   "source": [
    "output_df.to_csv('sample_output.csv', index=None)"
   ]
  },
  {
   "cell_type": "markdown",
   "id": "c093e9a4",
   "metadata": {},
   "source": [
    "## Execute Query"
   ]
  },
  {
   "cell_type": "code",
   "execution_count": null,
   "id": "4e4638b3",
   "metadata": {},
   "outputs": [],
   "source": [
    "query = '''\n",
    "    DROP TABLE trip;\n",
    "'''"
   ]
  },
  {
   "cell_type": "code",
   "execution_count": null,
   "id": "c051d1a8",
   "metadata": {},
   "outputs": [],
   "source": [
    "with engine.connect() as conn:\n",
    "    conn.execute(query)"
   ]
  },
  {
   "cell_type": "code",
   "execution_count": null,
   "id": "fb797fbf",
   "metadata": {},
   "outputs": [],
   "source": []
  }
 ],
 "metadata": {
  "kernelspec": {
   "display_name": "Python 3.9.13 ('venv': venv)",
   "language": "python",
   "name": "python3"
  },
  "language_info": {
   "codemirror_mode": {
    "name": "ipython",
    "version": 3
   },
   "file_extension": ".py",
   "mimetype": "text/x-python",
   "name": "python",
   "nbconvert_exporter": "python",
   "pygments_lexer": "ipython3",
   "version": "3.9.13"
  },
  "vscode": {
   "interpreter": {
    "hash": "6f0287ec65954f2adecf2c461c90aefeadd2a9438fac8b26238b47704e2e7a99"
   }
  }
 },
 "nbformat": 4,
 "nbformat_minor": 5
}
