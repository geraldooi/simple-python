{
 "cells": [
  {
   "cell_type": "code",
   "execution_count": 1,
   "id": "fd367b01",
   "metadata": {},
   "outputs": [],
   "source": [
    "import numpy as np\n",
    "import os\n",
    "import pandas as pd"
   ]
  },
  {
   "cell_type": "markdown",
   "id": "92029a4e",
   "metadata": {},
   "source": [
    "## Read CSV"
   ]
  },
  {
   "cell_type": "code",
   "execution_count": 2,
   "id": "8b53331e",
   "metadata": {},
   "outputs": [
    {
     "data": {
      "text/plain": [
       "['trip_100.csv', 'data_dictionary.pdf', 'trip.csv', 'zone.csv']"
      ]
     },
     "execution_count": 2,
     "metadata": {},
     "output_type": "execute_result"
    }
   ],
   "source": [
    "os.listdir('data/')"
   ]
  },
  {
   "cell_type": "code",
   "execution_count": 3,
   "id": "5875de72",
   "metadata": {},
   "outputs": [],
   "source": [
    "# Read from csv file\n",
    "df = pd.read_csv('data/trip_100.csv', index_col=0)"
   ]
  },
  {
   "cell_type": "markdown",
   "id": "4817fad5",
   "metadata": {},
   "source": [
    "## Load CSV to DB"
   ]
  },
  {
   "cell_type": "code",
   "execution_count": 4,
   "id": "0736a106",
   "metadata": {},
   "outputs": [],
   "source": [
    "from sqlalchemy import create_engine"
   ]
  },
  {
   "cell_type": "code",
   "execution_count": 5,
   "id": "4932314f",
   "metadata": {},
   "outputs": [],
   "source": [
    "username ='root'\n",
    "password = 'root'\n",
    "host = 'localhost'\n",
    "port = '3306'\n",
    "dbname = 'taxi'"
   ]
  },
  {
   "cell_type": "code",
   "execution_count": 6,
   "id": "25ad2878",
   "metadata": {},
   "outputs": [],
   "source": [
    "# Initialize mysql engine\n",
    "engine = create_engine(f'mysql+pymysql://{username}:{password}@{host}:{port}/{dbname}')"
   ]
  },
  {
   "cell_type": "code",
   "execution_count": 7,
   "id": "20031161",
   "metadata": {},
   "outputs": [
    {
     "data": {
      "text/plain": [
       "0"
      ]
     },
     "execution_count": 7,
     "metadata": {},
     "output_type": "execute_result"
    }
   ],
   "source": [
    "# Create Table in taxi\n",
    "df.head(0).to_sql(name='trip', con=engine, if_exists='replace')"
   ]
  },
  {
   "cell_type": "code",
   "execution_count": 8,
   "id": "ef63bf6a",
   "metadata": {},
   "outputs": [
    {
     "data": {
      "text/plain": [
       "100"
      ]
     },
     "execution_count": 8,
     "metadata": {},
     "output_type": "execute_result"
    }
   ],
   "source": [
    "# Load data into trip table\n",
    "df.to_sql(name='trip', con=engine, if_exists='append', chunksize=100000)"
   ]
  },
  {
   "cell_type": "markdown",
   "id": "4d4da122",
   "metadata": {},
   "source": [
    "## Persist Table to CSV"
   ]
  },
  {
   "cell_type": "code",
   "execution_count": 9,
   "id": "cd7ac58b",
   "metadata": {},
   "outputs": [],
   "source": [
    "# read from sql\n",
    "query = '''\n",
    "    SELECT tpep_pickup_datetime, tpep_dropoff_datetime, passenger_count, total_amount, trip_distance\n",
    "    FROM trip\n",
    "    LIMIT 30;\n",
    "'''\n",
    "output_df = pd.read_sql(query, con=engine)"
   ]
  },
  {
   "cell_type": "code",
   "execution_count": 10,
   "id": "29a24bfd",
   "metadata": {},
   "outputs": [
    {
     "data": {
      "text/html": [
       "<div>\n",
       "<style scoped>\n",
       "    .dataframe tbody tr th:only-of-type {\n",
       "        vertical-align: middle;\n",
       "    }\n",
       "\n",
       "    .dataframe tbody tr th {\n",
       "        vertical-align: top;\n",
       "    }\n",
       "\n",
       "    .dataframe thead th {\n",
       "        text-align: right;\n",
       "    }\n",
       "</style>\n",
       "<table border=\"1\" class=\"dataframe\">\n",
       "  <thead>\n",
       "    <tr style=\"text-align: right;\">\n",
       "      <th></th>\n",
       "      <th>tpep_pickup_datetime</th>\n",
       "      <th>tpep_dropoff_datetime</th>\n",
       "      <th>passenger_count</th>\n",
       "      <th>total_amount</th>\n",
       "      <th>trip_distance</th>\n",
       "    </tr>\n",
       "  </thead>\n",
       "  <tbody>\n",
       "    <tr>\n",
       "      <th>0</th>\n",
       "      <td>2022-01-01 00:35:40</td>\n",
       "      <td>2022-01-01 00:53:29</td>\n",
       "      <td>2.0</td>\n",
       "      <td>21.95</td>\n",
       "      <td>3.80</td>\n",
       "    </tr>\n",
       "    <tr>\n",
       "      <th>1</th>\n",
       "      <td>2022-01-01 00:33:43</td>\n",
       "      <td>2022-01-01 00:42:07</td>\n",
       "      <td>1.0</td>\n",
       "      <td>13.30</td>\n",
       "      <td>2.10</td>\n",
       "    </tr>\n",
       "    <tr>\n",
       "      <th>2</th>\n",
       "      <td>2022-01-01 00:53:21</td>\n",
       "      <td>2022-01-01 01:02:19</td>\n",
       "      <td>1.0</td>\n",
       "      <td>10.56</td>\n",
       "      <td>0.97</td>\n",
       "    </tr>\n",
       "    <tr>\n",
       "      <th>3</th>\n",
       "      <td>2022-01-01 00:25:21</td>\n",
       "      <td>2022-01-01 00:35:23</td>\n",
       "      <td>1.0</td>\n",
       "      <td>11.80</td>\n",
       "      <td>1.09</td>\n",
       "    </tr>\n",
       "    <tr>\n",
       "      <th>4</th>\n",
       "      <td>2022-01-01 00:36:48</td>\n",
       "      <td>2022-01-01 01:14:20</td>\n",
       "      <td>1.0</td>\n",
       "      <td>30.30</td>\n",
       "      <td>4.30</td>\n",
       "    </tr>\n",
       "    <tr>\n",
       "      <th>5</th>\n",
       "      <td>2022-01-01 00:40:15</td>\n",
       "      <td>2022-01-01 01:09:48</td>\n",
       "      <td>1.0</td>\n",
       "      <td>56.35</td>\n",
       "      <td>10.30</td>\n",
       "    </tr>\n",
       "    <tr>\n",
       "      <th>6</th>\n",
       "      <td>2022-01-01 00:20:50</td>\n",
       "      <td>2022-01-01 00:34:58</td>\n",
       "      <td>1.0</td>\n",
       "      <td>26.00</td>\n",
       "      <td>5.07</td>\n",
       "    </tr>\n",
       "    <tr>\n",
       "      <th>7</th>\n",
       "      <td>2022-01-01 00:13:04</td>\n",
       "      <td>2022-01-01 00:22:45</td>\n",
       "      <td>1.0</td>\n",
       "      <td>12.80</td>\n",
       "      <td>2.02</td>\n",
       "    </tr>\n",
       "    <tr>\n",
       "      <th>8</th>\n",
       "      <td>2022-01-01 00:30:02</td>\n",
       "      <td>2022-01-01 00:44:49</td>\n",
       "      <td>1.0</td>\n",
       "      <td>18.05</td>\n",
       "      <td>2.71</td>\n",
       "    </tr>\n",
       "    <tr>\n",
       "      <th>9</th>\n",
       "      <td>2022-01-01 00:48:52</td>\n",
       "      <td>2022-01-01 00:53:28</td>\n",
       "      <td>1.0</td>\n",
       "      <td>8.80</td>\n",
       "      <td>0.78</td>\n",
       "    </tr>\n",
       "    <tr>\n",
       "      <th>10</th>\n",
       "      <td>2022-01-01 00:55:03</td>\n",
       "      <td>2022-01-01 01:04:25</td>\n",
       "      <td>1.0</td>\n",
       "      <td>12.30</td>\n",
       "      <td>1.91</td>\n",
       "    </tr>\n",
       "    <tr>\n",
       "      <th>11</th>\n",
       "      <td>2022-01-01 00:31:06</td>\n",
       "      <td>2022-01-01 00:34:14</td>\n",
       "      <td>3.0</td>\n",
       "      <td>8.30</td>\n",
       "      <td>0.82</td>\n",
       "    </tr>\n",
       "    <tr>\n",
       "      <th>12</th>\n",
       "      <td>2022-01-01 00:41:07</td>\n",
       "      <td>2022-01-01 00:44:46</td>\n",
       "      <td>3.0</td>\n",
       "      <td>8.30</td>\n",
       "      <td>0.73</td>\n",
       "    </tr>\n",
       "    <tr>\n",
       "      <th>13</th>\n",
       "      <td>2022-01-01 00:56:34</td>\n",
       "      <td>2022-01-01 01:12:04</td>\n",
       "      <td>2.0</td>\n",
       "      <td>18.36</td>\n",
       "      <td>2.16</td>\n",
       "    </tr>\n",
       "    <tr>\n",
       "      <th>14</th>\n",
       "      <td>2022-01-01 00:39:46</td>\n",
       "      <td>2022-01-01 00:47:36</td>\n",
       "      <td>4.0</td>\n",
       "      <td>13.56</td>\n",
       "      <td>1.43</td>\n",
       "    </tr>\n",
       "    <tr>\n",
       "      <th>15</th>\n",
       "      <td>2022-01-01 00:58:06</td>\n",
       "      <td>2022-01-01 01:05:45</td>\n",
       "      <td>1.0</td>\n",
       "      <td>11.80</td>\n",
       "      <td>1.58</td>\n",
       "    </tr>\n",
       "    <tr>\n",
       "      <th>16</th>\n",
       "      <td>2022-01-01 00:33:52</td>\n",
       "      <td>2022-01-01 00:47:28</td>\n",
       "      <td>3.0</td>\n",
       "      <td>20.75</td>\n",
       "      <td>4.20</td>\n",
       "    </tr>\n",
       "    <tr>\n",
       "      <th>17</th>\n",
       "      <td>2022-01-01 00:53:54</td>\n",
       "      <td>2022-01-01 01:05:20</td>\n",
       "      <td>2.0</td>\n",
       "      <td>15.35</td>\n",
       "      <td>2.20</td>\n",
       "    </tr>\n",
       "    <tr>\n",
       "      <th>18</th>\n",
       "      <td>2022-01-01 00:00:44</td>\n",
       "      <td>2022-01-01 00:05:29</td>\n",
       "      <td>1.0</td>\n",
       "      <td>6.30</td>\n",
       "      <td>0.20</td>\n",
       "    </tr>\n",
       "    <tr>\n",
       "      <th>19</th>\n",
       "      <td>2022-01-01 00:35:50</td>\n",
       "      <td>2022-01-01 00:48:33</td>\n",
       "      <td>2.0</td>\n",
       "      <td>20.15</td>\n",
       "      <td>3.90</td>\n",
       "    </tr>\n",
       "    <tr>\n",
       "      <th>20</th>\n",
       "      <td>2022-01-01 00:49:14</td>\n",
       "      <td>2022-01-01 00:58:29</td>\n",
       "      <td>2.0</td>\n",
       "      <td>17.75</td>\n",
       "      <td>3.20</td>\n",
       "    </tr>\n",
       "    <tr>\n",
       "      <th>21</th>\n",
       "      <td>2022-01-01 00:06:10</td>\n",
       "      <td>2022-01-01 00:08:58</td>\n",
       "      <td>1.0</td>\n",
       "      <td>6.30</td>\n",
       "      <td>0.00</td>\n",
       "    </tr>\n",
       "    <tr>\n",
       "      <th>22</th>\n",
       "      <td>2022-01-01 00:09:01</td>\n",
       "      <td>2022-01-01 00:17:15</td>\n",
       "      <td>1.0</td>\n",
       "      <td>12.95</td>\n",
       "      <td>1.20</td>\n",
       "    </tr>\n",
       "    <tr>\n",
       "      <th>23</th>\n",
       "      <td>2022-01-01 00:30:06</td>\n",
       "      <td>2022-01-01 00:38:11</td>\n",
       "      <td>1.0</td>\n",
       "      <td>14.05</td>\n",
       "      <td>1.70</td>\n",
       "    </tr>\n",
       "    <tr>\n",
       "      <th>24</th>\n",
       "      <td>2022-01-01 00:46:41</td>\n",
       "      <td>2022-01-01 00:57:53</td>\n",
       "      <td>1.0</td>\n",
       "      <td>14.15</td>\n",
       "      <td>1.60</td>\n",
       "    </tr>\n",
       "    <tr>\n",
       "      <th>25</th>\n",
       "      <td>2022-01-01 00:14:00</td>\n",
       "      <td>2022-01-01 00:35:24</td>\n",
       "      <td>5.0</td>\n",
       "      <td>23.14</td>\n",
       "      <td>2.48</td>\n",
       "    </tr>\n",
       "    <tr>\n",
       "      <th>26</th>\n",
       "      <td>2022-01-01 00:46:09</td>\n",
       "      <td>2022-01-01 01:08:06</td>\n",
       "      <td>6.0</td>\n",
       "      <td>28.56</td>\n",
       "      <td>5.95</td>\n",
       "    </tr>\n",
       "    <tr>\n",
       "      <th>27</th>\n",
       "      <td>2022-01-01 00:52:53</td>\n",
       "      <td>2022-01-01 01:05:26</td>\n",
       "      <td>2.0</td>\n",
       "      <td>16.80</td>\n",
       "      <td>4.00</td>\n",
       "    </tr>\n",
       "    <tr>\n",
       "      <th>28</th>\n",
       "      <td>2022-01-01 18:04:06</td>\n",
       "      <td>2022-01-01 18:40:52</td>\n",
       "      <td>1.0</td>\n",
       "      <td>55.32</td>\n",
       "      <td>9.70</td>\n",
       "    </tr>\n",
       "    <tr>\n",
       "      <th>29</th>\n",
       "      <td>2022-01-01 00:23:54</td>\n",
       "      <td>2022-01-01 00:28:42</td>\n",
       "      <td>2.0</td>\n",
       "      <td>9.30</td>\n",
       "      <td>0.80</td>\n",
       "    </tr>\n",
       "  </tbody>\n",
       "</table>\n",
       "</div>"
      ],
      "text/plain": [
       "   tpep_pickup_datetime tpep_dropoff_datetime  passenger_count  total_amount  \\\n",
       "0   2022-01-01 00:35:40   2022-01-01 00:53:29              2.0         21.95   \n",
       "1   2022-01-01 00:33:43   2022-01-01 00:42:07              1.0         13.30   \n",
       "2   2022-01-01 00:53:21   2022-01-01 01:02:19              1.0         10.56   \n",
       "3   2022-01-01 00:25:21   2022-01-01 00:35:23              1.0         11.80   \n",
       "4   2022-01-01 00:36:48   2022-01-01 01:14:20              1.0         30.30   \n",
       "5   2022-01-01 00:40:15   2022-01-01 01:09:48              1.0         56.35   \n",
       "6   2022-01-01 00:20:50   2022-01-01 00:34:58              1.0         26.00   \n",
       "7   2022-01-01 00:13:04   2022-01-01 00:22:45              1.0         12.80   \n",
       "8   2022-01-01 00:30:02   2022-01-01 00:44:49              1.0         18.05   \n",
       "9   2022-01-01 00:48:52   2022-01-01 00:53:28              1.0          8.80   \n",
       "10  2022-01-01 00:55:03   2022-01-01 01:04:25              1.0         12.30   \n",
       "11  2022-01-01 00:31:06   2022-01-01 00:34:14              3.0          8.30   \n",
       "12  2022-01-01 00:41:07   2022-01-01 00:44:46              3.0          8.30   \n",
       "13  2022-01-01 00:56:34   2022-01-01 01:12:04              2.0         18.36   \n",
       "14  2022-01-01 00:39:46   2022-01-01 00:47:36              4.0         13.56   \n",
       "15  2022-01-01 00:58:06   2022-01-01 01:05:45              1.0         11.80   \n",
       "16  2022-01-01 00:33:52   2022-01-01 00:47:28              3.0         20.75   \n",
       "17  2022-01-01 00:53:54   2022-01-01 01:05:20              2.0         15.35   \n",
       "18  2022-01-01 00:00:44   2022-01-01 00:05:29              1.0          6.30   \n",
       "19  2022-01-01 00:35:50   2022-01-01 00:48:33              2.0         20.15   \n",
       "20  2022-01-01 00:49:14   2022-01-01 00:58:29              2.0         17.75   \n",
       "21  2022-01-01 00:06:10   2022-01-01 00:08:58              1.0          6.30   \n",
       "22  2022-01-01 00:09:01   2022-01-01 00:17:15              1.0         12.95   \n",
       "23  2022-01-01 00:30:06   2022-01-01 00:38:11              1.0         14.05   \n",
       "24  2022-01-01 00:46:41   2022-01-01 00:57:53              1.0         14.15   \n",
       "25  2022-01-01 00:14:00   2022-01-01 00:35:24              5.0         23.14   \n",
       "26  2022-01-01 00:46:09   2022-01-01 01:08:06              6.0         28.56   \n",
       "27  2022-01-01 00:52:53   2022-01-01 01:05:26              2.0         16.80   \n",
       "28  2022-01-01 18:04:06   2022-01-01 18:40:52              1.0         55.32   \n",
       "29  2022-01-01 00:23:54   2022-01-01 00:28:42              2.0          9.30   \n",
       "\n",
       "    trip_distance  \n",
       "0            3.80  \n",
       "1            2.10  \n",
       "2            0.97  \n",
       "3            1.09  \n",
       "4            4.30  \n",
       "5           10.30  \n",
       "6            5.07  \n",
       "7            2.02  \n",
       "8            2.71  \n",
       "9            0.78  \n",
       "10           1.91  \n",
       "11           0.82  \n",
       "12           0.73  \n",
       "13           2.16  \n",
       "14           1.43  \n",
       "15           1.58  \n",
       "16           4.20  \n",
       "17           2.20  \n",
       "18           0.20  \n",
       "19           3.90  \n",
       "20           3.20  \n",
       "21           0.00  \n",
       "22           1.20  \n",
       "23           1.70  \n",
       "24           1.60  \n",
       "25           2.48  \n",
       "26           5.95  \n",
       "27           4.00  \n",
       "28           9.70  \n",
       "29           0.80  "
      ]
     },
     "execution_count": 10,
     "metadata": {},
     "output_type": "execute_result"
    }
   ],
   "source": [
    "output_df"
   ]
  },
  {
   "cell_type": "code",
   "execution_count": 11,
   "id": "5444a9c7",
   "metadata": {},
   "outputs": [],
   "source": [
    "output_df.to_csv('sample_output.csv', index=None)"
   ]
  },
  {
   "cell_type": "markdown",
   "id": "c093e9a4",
   "metadata": {},
   "source": [
    "## Execute Query"
   ]
  },
  {
   "cell_type": "code",
   "execution_count": 21,
   "id": "4e4638b3",
   "metadata": {},
   "outputs": [],
   "source": [
    "query = '''\n",
    "    DROP TABLE trip;\n",
    "'''"
   ]
  },
  {
   "cell_type": "code",
   "execution_count": 22,
   "id": "c051d1a8",
   "metadata": {},
   "outputs": [],
   "source": [
    "with engine.connect() as conn:\n",
    "    conn.execute(query)"
   ]
  },
  {
   "cell_type": "code",
   "execution_count": null,
   "id": "fb797fbf",
   "metadata": {},
   "outputs": [],
   "source": []
  }
 ],
 "metadata": {
  "kernelspec": {
   "display_name": "Python 3.9.13 ('venv': venv)",
   "language": "python",
   "name": "python3"
  },
  "language_info": {
   "codemirror_mode": {
    "name": "ipython",
    "version": 3
   },
   "file_extension": ".py",
   "mimetype": "text/x-python",
   "name": "python",
   "nbconvert_exporter": "python",
   "pygments_lexer": "ipython3",
   "version": "3.9.13"
  },
  "vscode": {
   "interpreter": {
    "hash": "6f0287ec65954f2adecf2c461c90aefeadd2a9438fac8b26238b47704e2e7a99"
   }
  }
 },
 "nbformat": 4,
 "nbformat_minor": 5
}
